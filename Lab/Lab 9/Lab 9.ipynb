{
 "cells": [
  {
   "cell_type": "code",
   "execution_count": 29,
   "id": "135891e5",
   "metadata": {},
   "outputs": [],
   "source": [
    "from copy import deepcopy\n",
    "\n",
    "def masterpiece_index(orders: list[int]) -> int:\n",
    "    orders.sort()\n",
    "    for i in range(1, len(orders)+1): # 1 - 7\n",
    "        counter = 0\n",
    "        for j in range(len(orders)+1): # 0 - 7\n",
    "            if j == len(orders):\n",
    "                return i-1\n",
    "            if(counter != i-1):\n",
    "                if(orders[j] >= i):\n",
    "                    counter += 1\n",
    "            else:\n",
    "                break\n",
    "            "
   ]
  },
  {
   "cell_type": "code",
   "execution_count": 30,
   "id": "df39bce3",
   "metadata": {},
   "outputs": [
    {
     "data": {
      "text/plain": [
       "5"
      ]
     },
     "execution_count": 30,
     "metadata": {},
     "output_type": "execute_result"
    }
   ],
   "source": [
    "# orders = [1, 7, 2, 5, 9, 5, 6]\n",
    "orders = [3, 2, 2, 7, 9]\n",
    "orders = deepcopy(orders)\n",
    "masterpiece_index(orders)"
   ]
  }
 ],
 "metadata": {
  "kernelspec": {
   "display_name": "Python 3 (ipykernel)",
   "language": "python",
   "name": "python3"
  },
  "language_info": {
   "codemirror_mode": {
    "name": "ipython",
    "version": 3
   },
   "file_extension": ".py",
   "mimetype": "text/x-python",
   "name": "python",
   "nbconvert_exporter": "python",
   "pygments_lexer": "ipython3",
   "version": "3.10.12"
  }
 },
 "nbformat": 4,
 "nbformat_minor": 5
}
