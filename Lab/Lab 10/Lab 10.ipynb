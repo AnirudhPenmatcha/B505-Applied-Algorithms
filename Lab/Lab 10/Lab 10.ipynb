{
 "cells": [
  {
   "cell_type": "code",
   "execution_count": 24,
   "id": "f44718f8",
   "metadata": {},
   "outputs": [],
   "source": [
    "# def travelCity(snacks: list[int], energy: list[int]) -> int:\n",
    "#     min_index = energy.index(min(energy))\n",
    "    \n",
    "#     if min_index < len(energy)-1:\n",
    "#         fuel = snacks[min_index] - energy[min_index] + snacks[min_index]\n",
    "#     else:\n",
    "#         fuel = snacks[min_index] - energy[min_index] + snacks[0]\n",
    "    \n",
    "#     for i in range(len(energy)-1):\n",
    "#         if min_index < len(energy)-1:\n",
    "#             fuel = snacks[min_index] - energy[min_index] + snacks[min_index]\n",
    "#         else:\n",
    "#             fuel = snacks[min_index] - energy[min_index] + snacks[0]\n",
    "#         if fuel < 0:\n",
    "            \n",
    "    \n",
    "    \n",
    "#     print(fuel)\n",
    "    \n",
    "#     if fuel < 0:\n",
    "#         return -1\n",
    "#     else:\n",
    "#         return min_index\n",
    "        \n",
    "    "
   ]
  },
  {
   "cell_type": "code",
   "execution_count": 27,
   "id": "997d4e38",
   "metadata": {},
   "outputs": [
    {
     "data": {
      "text/plain": [
       "4"
      ]
     },
     "execution_count": 27,
     "metadata": {},
     "output_type": "execute_result"
    }
   ],
   "source": [
    "# snacks = [1,2,3,4,5]; energy = [3,4,5,1,2]\n",
    "# travelCity(snacks, energy)"
   ]
  },
  {
   "cell_type": "code",
   "execution_count": 28,
   "id": "70cd31f9",
   "metadata": {},
   "outputs": [
    {
     "data": {
      "text/plain": [
       "3"
      ]
     },
     "execution_count": 28,
     "metadata": {},
     "output_type": "execute_result"
    }
   ],
   "source": [
    "# travelCity([2,3,4], [3,4,3])"
   ]
  },
  {
   "cell_type": "code",
   "execution_count": 47,
   "id": "f1eee779",
   "metadata": {},
   "outputs": [],
   "source": [
    "def travelCity(snacks: list[int], energy: list[int]) -> int:\n",
    "    global_total = 0\n",
    "    temp_total = 0\n",
    "    start = 0\n",
    "    i = 0\n",
    "            \n",
    "    for i in range(len(energy)):\n",
    "        global_total += snacks[i] - energy[i]\n",
    "        temp_total += snacks[i] - energy[i]\n",
    "        \n",
    "        if temp_total <  0:\n",
    "            start += 1\n",
    "            temp_total = 0\n",
    "\n",
    "            \n",
    "    if global_total >= 0:\n",
    "        return start\n",
    "    else:\n",
    "        return -1\n",
    "        \n",
    "        "
   ]
  },
  {
   "cell_type": "code",
   "execution_count": 48,
   "id": "ceb9fdb4",
   "metadata": {},
   "outputs": [
    {
     "data": {
      "text/plain": [
       "3"
      ]
     },
     "execution_count": 48,
     "metadata": {},
     "output_type": "execute_result"
    }
   ],
   "source": [
    "snacks = [1,2,3,4,5]; energy = [3,4,5,1,2]\n",
    "travelCity(snacks, energy)"
   ]
  },
  {
   "cell_type": "code",
   "execution_count": 49,
   "id": "90c9401d",
   "metadata": {},
   "outputs": [
    {
     "data": {
      "text/plain": [
       "-1"
      ]
     },
     "execution_count": 49,
     "metadata": {},
     "output_type": "execute_result"
    }
   ],
   "source": [
    "travelCity([2,3,4], [3,4,3])"
   ]
  }
 ],
 "metadata": {
  "kernelspec": {
   "display_name": "Python 3 (ipykernel)",
   "language": "python",
   "name": "python3"
  },
  "language_info": {
   "codemirror_mode": {
    "name": "ipython",
    "version": 3
   },
   "file_extension": ".py",
   "mimetype": "text/x-python",
   "name": "python",
   "nbconvert_exporter": "python",
   "pygments_lexer": "ipython3",
   "version": "3.10.12"
  }
 },
 "nbformat": 4,
 "nbformat_minor": 5
}
