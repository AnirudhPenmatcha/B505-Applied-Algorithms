{
 "cells": [
  {
   "cell_type": "code",
   "execution_count": 49,
   "id": "996078c4",
   "metadata": {},
   "outputs": [],
   "source": [
    "def xAyB(secret: str, guess: str) -> str:\n",
    "    hash = {}; x = 0; y = 0\n",
    "    length = len(secret)\n",
    "    \n",
    "    for i in range(length):\n",
    "        if secret[i] not in hash.keys():\n",
    "            hash[secret[i]] = 1\n",
    "        elif secret[i] != guess[i]:\n",
    "            hash[secret[i]] += 1\n",
    "    \n",
    "    for j in range(length):\n",
    "        if secret[j] == guess[j]:\n",
    "            x += 1\n",
    "        elif guess[j] in hash.keys() and hash[guess[j]] > 0:\n",
    "            hash[guess[j]] -= 1\n",
    "            y += 1\n",
    "        \n",
    "    return f\"{x}A{y}B\""
   ]
  },
  {
   "cell_type": "code",
   "execution_count": 50,
   "id": "0d742635",
   "metadata": {},
   "outputs": [
    {
     "name": "stdout",
     "output_type": "stream",
     "text": [
      "{'2': 1, '1': 1, '0': 1, '5': 1}\n",
      "1\n",
      "2\n"
     ]
    },
    {
     "data": {
      "text/plain": [
       "'1A2B'"
      ]
     },
     "execution_count": 50,
     "metadata": {},
     "output_type": "execute_result"
    }
   ],
   "source": [
    "xAyB(secret = \"22105\", guess = \"12324\") #1A2B"
   ]
  },
  {
   "cell_type": "code",
   "execution_count": 51,
   "id": "eea45895",
   "metadata": {},
   "outputs": [
    {
     "name": "stdout",
     "output_type": "stream",
     "text": [
      "{'1': 1, '2': 1, '3': 1}\n",
      "1\n"
     ]
    },
    {
     "data": {
      "text/plain": [
       "'1A1B'"
      ]
     },
     "execution_count": 51,
     "metadata": {},
     "output_type": "execute_result"
    }
   ],
   "source": [
    "xAyB(\"1123\",\"0111\") #1A1B"
   ]
  },
  {
   "cell_type": "code",
   "execution_count": 52,
   "id": "e04dc437",
   "metadata": {},
   "outputs": [
    {
     "name": "stdout",
     "output_type": "stream",
     "text": [
      "{'3': 2, '1': 2, '4': 1, '5': 3, '9': 2, '2': 1, '6': 1, '8': 1, '7': 1}\n",
      "2\n",
      "7\n",
      "1\n",
      "8\n",
      "1\n",
      "4\n",
      "5\n"
     ]
    },
    {
     "data": {
      "text/plain": [
       "'1A7B'"
      ]
     },
     "execution_count": 52,
     "metadata": {},
     "output_type": "execute_result"
    }
   ],
   "source": [
    "xAyB(\"314159265358979\",\"271828182845904\") #1A7B"
   ]
  }
 ],
 "metadata": {
  "kernelspec": {
   "display_name": "Python 3 (ipykernel)",
   "language": "python",
   "name": "python3"
  },
  "language_info": {
   "codemirror_mode": {
    "name": "ipython",
    "version": 3
   },
   "file_extension": ".py",
   "mimetype": "text/x-python",
   "name": "python",
   "nbconvert_exporter": "python",
   "pygments_lexer": "ipython3",
   "version": "3.10.12"
  }
 },
 "nbformat": 4,
 "nbformat_minor": 5
}
