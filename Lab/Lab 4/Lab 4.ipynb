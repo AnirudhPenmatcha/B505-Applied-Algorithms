{
 "cells": [
  {
   "cell_type": "code",
   "execution_count": 93,
   "id": "9f885c85",
   "metadata": {},
   "outputs": [
    {
     "name": "stdout",
     "output_type": "stream",
     "text": [
      "137\n"
     ]
    }
   ],
   "source": [
    "class TreeNode:\n",
    "    def __init__(self, val=0, left=None, right=None):\n",
    "        self.val = val\n",
    "        self.left = left\n",
    "        self.right = right\n",
    "\n",
    "def leafNumberSum(root) -> int:\n",
    "    \n",
    "    def tree(root, leaves=[], joined_integer=0, total=[0]) -> int:\n",
    "        if root:\n",
    "            leaves.append(root.val)\n",
    "            tree(root.left)\n",
    "            tree(root.right)\n",
    "\n",
    "            joined_integer = int(''.join(map(str, leaves)))\n",
    "    #         print(joined_integer)\n",
    "            if not root.left and not root.right:\n",
    "    #             print(joined_integer)\n",
    "                total[0] += joined_integer\n",
    "\n",
    "            leaves.pop(-1)\n",
    "\n",
    "        return total[0]\n",
    "    \n",
    "    return tree(root)\n",
    "\n",
    "if __name__ == '__main__':\n",
    "    root = TreeNode(1)\n",
    "    root.left = TreeNode(2)\n",
    "    root.right = TreeNode(3)\n",
    "    root.left.right = TreeNode(4)\n",
    "#     root.left.left = TreeNode(5)\n",
    "#     root.left.right = TreeNode(1)\n",
    "\n",
    "    # Function call\n",
    "    total_sum = leafNumberSum(root)\n",
    "#     print(total_sum)\n"
   ]
  },
  {
   "cell_type": "code",
   "execution_count": null,
   "id": "be88ea43",
   "metadata": {},
   "outputs": [],
   "source": []
  },
  {
   "cell_type": "code",
   "execution_count": null,
   "id": "21cc4ac2",
   "metadata": {},
   "outputs": [],
   "source": []
  }
 ],
 "metadata": {
  "kernelspec": {
   "display_name": "Python 3 (ipykernel)",
   "language": "python",
   "name": "python3"
  },
  "language_info": {
   "codemirror_mode": {
    "name": "ipython",
    "version": 3
   },
   "file_extension": ".py",
   "mimetype": "text/x-python",
   "name": "python",
   "nbconvert_exporter": "python",
   "pygments_lexer": "ipython3",
   "version": "3.10.12"
  }
 },
 "nbformat": 4,
 "nbformat_minor": 5
}
