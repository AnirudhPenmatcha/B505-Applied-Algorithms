{
 "cells": [
  {
   "cell_type": "code",
   "execution_count": 23,
   "id": "b8d84308",
   "metadata": {},
   "outputs": [],
   "source": [
    "class Queue:\n",
    "# Initializes the object with the size of the queue to be ’max_size’.\n",
    "    def __init__(self, max_size: int):\n",
    "        self.queue = []\n",
    "        self.left = 0\n",
    "        self.right = 0\n",
    "        self.size = max_size\n",
    "        pass\n",
    "# Inserts an element into the queue; Return True if the operation is successful,\n",
    "# else False.\n",
    "    def enque(self, value: int) -> bool:\n",
    "        if self.right - self.left + 1 == self.size: # check if queue reached max size\n",
    "            return False\n",
    "        else:\n",
    "            if self.queue:\n",
    "                self.right += 1\n",
    "            self.queue.append(value)\n",
    "            return True\n",
    "        pass\n",
    "# Return the next value in the queue; if the queue is empty, return -1.\n",
    "    def deque(self) -> int:\n",
    "        if not self.queue or self.right - self.left == -1:\n",
    "            return -1\n",
    "        else:\n",
    "            pop = self.queue[self.left]\n",
    "            self.left += 1\n",
    "            return pop\n",
    "        pass\n",
    "\n"
   ]
  },
  {
   "cell_type": "code",
   "execution_count": 26,
   "id": "26534807",
   "metadata": {},
   "outputs": [
    {
     "name": "stdout",
     "output_type": "stream",
     "text": [
      "True\n",
      "True\n",
      "True\n",
      "False\n",
      "1\n",
      "2\n",
      "True\n",
      "True\n",
      "3\n",
      "4\n",
      "5\n",
      "-1\n"
     ]
    }
   ],
   "source": [
    "queue = Queue(3)\n",
    "print(queue.enque(1)) # True\n",
    "print(queue.enque(2)) # True\n",
    "print(queue.enque(3)) # True\n",
    "print(queue.enque(4)) # False (queue is full)\n",
    "print(queue.deque()) # 1\n",
    "print(queue.deque()) # 2\n",
    "print(queue.enque(4)) # True\n",
    "print(queue.enque(5)) # True\n",
    "print(queue.deque()) # 3\n",
    "print(queue.deque()) # 4\n",
    "print(queue.deque()) # 5\n",
    "print(queue.deque()) # -1 (queue is empty)"
   ]
  },
  {
   "cell_type": "code",
   "execution_count": 25,
   "id": "e439b974",
   "metadata": {},
   "outputs": [
    {
     "name": "stdout",
     "output_type": "stream",
     "text": [
      "True\n",
      "True\n",
      "True\n",
      "True\n",
      "True\n",
      "True\n",
      "True\n",
      "False\n",
      "False\n",
      "1\n",
      "2\n",
      "True\n",
      "True\n",
      "3\n",
      "4\n",
      "5\n",
      "6\n",
      "7\n",
      "8\n",
      "9\n",
      "-1\n"
     ]
    }
   ],
   "source": [
    "queue = Queue(7)\n",
    "print(queue.enque(1)) \n",
    "print(queue.enque(2)) \n",
    "print(queue.enque(3)) \n",
    "print(queue.enque(4)) \n",
    "print(queue.enque(5)) \n",
    "print(queue.enque(6)) \n",
    "print(queue.enque(7)) \n",
    "print(queue.enque(8)) \n",
    "print(queue.enque(9)) \n",
    "print(queue.deque()) \n",
    "print(queue.deque())\n",
    "print(queue.enque(8)) \n",
    "print(queue.enque(9)) \n",
    "print(queue.deque()) \n",
    "print(queue.deque())\n",
    "print(queue.deque()) \n",
    "print(queue.deque())\n",
    "print(queue.deque()) \n",
    "print(queue.deque())\n",
    "print(queue.deque()) \n",
    "print(queue.deque())\n"
   ]
  },
  {
   "cell_type": "code",
   "execution_count": null,
   "id": "0d5daa79",
   "metadata": {},
   "outputs": [],
   "source": []
  }
 ],
 "metadata": {
  "kernelspec": {
   "display_name": "Python 3 (ipykernel)",
   "language": "python",
   "name": "python3"
  },
  "language_info": {
   "codemirror_mode": {
    "name": "ipython",
    "version": 3
   },
   "file_extension": ".py",
   "mimetype": "text/x-python",
   "name": "python",
   "nbconvert_exporter": "python",
   "pygments_lexer": "ipython3",
   "version": "3.10.12"
  }
 },
 "nbformat": 4,
 "nbformat_minor": 5
}
