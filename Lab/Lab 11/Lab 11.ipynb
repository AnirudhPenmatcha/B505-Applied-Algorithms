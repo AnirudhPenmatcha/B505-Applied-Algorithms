{
 "cells": [
  {
   "cell_type": "code",
   "execution_count": 2,
   "id": "890537ae",
   "metadata": {},
   "outputs": [],
   "source": [
    "def perimeter(grid: list[list[int]]) -> int:\n",
    "    def dfs(i: int, j: int) -> int:\n",
    "        if i < 0 or i > len(grid)-1 or j < 0 or j > len(grid[i])-1:\n",
    "            return 1\n",
    "        elif grid[i][j] == 0:\n",
    "                return 1\n",
    "        elif grid[i][j] == -1:\n",
    "            return 0\n",
    "        else:\n",
    "            grid[i][j] = -1\n",
    "            return dfs(i+1, j) + dfs(i-1, j) + dfs(i, j+1) + dfs(i, j-1)\n",
    "    \n",
    "    \n",
    "    \n",
    "    for i in range(len(grid)):\n",
    "        for j in range(len(grid[i])):\n",
    "            if grid[i][j] == 1:\n",
    "                return dfs(i, j)"
   ]
  },
  {
   "cell_type": "code",
   "execution_count": 4,
   "id": "64e28a3f",
   "metadata": {},
   "outputs": [
    {
     "data": {
      "text/plain": [
       "12"
      ]
     },
     "execution_count": 4,
     "metadata": {},
     "output_type": "execute_result"
    }
   ],
   "source": [
    "perimeter([[0,1,0,0],[0,1,1,1],[0,0,1,0]])"
   ]
  }
 ],
 "metadata": {
  "kernelspec": {
   "display_name": "Python 3 (ipykernel)",
   "language": "python",
   "name": "python3"
  },
  "language_info": {
   "codemirror_mode": {
    "name": "ipython",
    "version": 3
   },
   "file_extension": ".py",
   "mimetype": "text/x-python",
   "name": "python",
   "nbconvert_exporter": "python",
   "pygments_lexer": "ipython3",
   "version": "3.10.12"
  }
 },
 "nbformat": 4,
 "nbformat_minor": 5
}
