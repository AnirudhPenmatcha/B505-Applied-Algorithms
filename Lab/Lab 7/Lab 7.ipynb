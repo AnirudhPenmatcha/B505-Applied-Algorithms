{
 "cells": [
  {
   "cell_type": "code",
   "execution_count": 36,
   "id": "bd64f6f5",
   "metadata": {},
   "outputs": [],
   "source": [
    "def makeXEqualToY(X: int, Y: int) -> int:\n",
    "    dp = [-1] * 10011\n",
    "    \n",
    "    def recursion(X, Y):\n",
    "        if X <= Y:\n",
    "            return Y-X\n",
    "        \n",
    "        if dp[X] != -1:\n",
    "            return dp[X]\n",
    "        \n",
    "        res = X-Y\n",
    "        \n",
    "        res = min(res, (X%5) + 1 + recursion(X//5, Y)) # -1 for 5\n",
    "        res = min(res, (5 - X%5) + 1 + recursion(X//5 + 1, Y)) # +1 for 5\n",
    "        res = min(res, (X%11) + 1 + recursion(X//11, Y)) # -1 for 11\n",
    "        res = min(res, (11 - X%11) + 1 + recursion(X//11 + 1, Y)) # +1 for 11\n",
    "        \n",
    "        dp[X] = res\n",
    "        return res\n",
    "    \n",
    "    return recursion(X, Y)\n",
    "    \n",
    "    \n",
    "    "
   ]
  },
  {
   "cell_type": "code",
   "execution_count": 37,
   "id": "b8d2f4c2",
   "metadata": {},
   "outputs": [
    {
     "data": {
      "text/plain": [
       "3"
      ]
     },
     "execution_count": 37,
     "metadata": {},
     "output_type": "execute_result"
    }
   ],
   "source": [
    "# makeXEqualToY(X = 34, Y = 8)"
   ]
  },
  {
   "cell_type": "code",
   "execution_count": 32,
   "id": "3131ea48",
   "metadata": {},
   "outputs": [
    {
     "data": {
      "text/plain": [
       "4"
      ]
     },
     "execution_count": 32,
     "metadata": {},
     "output_type": "execute_result"
    }
   ],
   "source": [
    "# 34%5"
   ]
  }
 ],
 "metadata": {
  "kernelspec": {
   "display_name": "Python 3 (ipykernel)",
   "language": "python",
   "name": "python3"
  },
  "language_info": {
   "codemirror_mode": {
    "name": "ipython",
    "version": 3
   },
   "file_extension": ".py",
   "mimetype": "text/x-python",
   "name": "python",
   "nbconvert_exporter": "python",
   "pygments_lexer": "ipython3",
   "version": "3.10.12"
  }
 },
 "nbformat": 4,
 "nbformat_minor": 5
}
