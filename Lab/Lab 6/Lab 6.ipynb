{
 "cells": [
  {
   "cell_type": "code",
   "execution_count": 24,
   "id": "445ac7f3",
   "metadata": {},
   "outputs": [
    {
     "name": "stdout",
     "output_type": "stream",
     "text": [
      "2\n"
     ]
    }
   ],
   "source": [
    "class TreeNode:\n",
    "    def __init__(self, val=0, left=None, right=None):\n",
    "        self.val = val\n",
    "        self.left = left\n",
    "        self.right = right\n",
    "def createBalancedBST(sortedList: list[int]) -> TreeNode:\n",
    "    if not sortedList:\n",
    "        return\n",
    "    else:\n",
    "        mid = len(sortedList)//2\n",
    "        root = TreeNode(sortedList[mid])\n",
    "        root.left = createBalancedBST(sortedList[0:mid])\n",
    "        root.right = createBalancedBST(sortedList[mid+1::])\n",
    "        return root\n",
    "    \n",
    "    \n",
    "\n",
    "\n",
    "\n",
    "\n",
    "# sorted_list = [1, 2, 3, 4, 5]\n",
    "# root_node = createBalancedBST(sorted_list)\n",
    "# print(root_node.left.val)"
   ]
  },
  {
   "cell_type": "code",
   "execution_count": 19,
   "id": "16062171",
   "metadata": {},
   "outputs": [
    {
     "name": "stdout",
     "output_type": "stream",
     "text": [
      "[]\n"
     ]
    }
   ],
   "source": [
    "# sorted_list = [1,2,3,4,5]\n",
    "# left_tree = sorted_list[0:len(sorted_list)//6]\n",
    "# print(left_tree)"
   ]
  },
  {
   "cell_type": "code",
   "execution_count": null,
   "id": "d0bebc08",
   "metadata": {},
   "outputs": [],
   "source": [
    "# Find middle value\n",
    "# Find middle of left subtree\n",
    "# Find middle of right subtree"
   ]
  }
 ],
 "metadata": {
  "kernelspec": {
   "display_name": "Python 3 (ipykernel)",
   "language": "python",
   "name": "python3"
  },
  "language_info": {
   "codemirror_mode": {
    "name": "ipython",
    "version": 3
   },
   "file_extension": ".py",
   "mimetype": "text/x-python",
   "name": "python",
   "nbconvert_exporter": "python",
   "pygments_lexer": "ipython3",
   "version": "3.10.12"
  }
 },
 "nbformat": 4,
 "nbformat_minor": 5
}
