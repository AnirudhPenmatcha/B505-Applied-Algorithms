{
 "cells": [
  {
   "cell_type": "code",
   "execution_count": 15,
   "id": "2079cd66",
   "metadata": {},
   "outputs": [],
   "source": [
    "import heapq\n",
    "\n",
    "def findSmallestPairs(arr1: list[int], arr2: list[int], k: int) -> list[list[int]]:\n",
    "    # Initializations\n",
    "    heap = []\n",
    "    heapq.heappush(heap, (arr1[0]+arr2[0], (0, 0))) \n",
    "    indices = set()\n",
    "    indices.add((0, 0))\n",
    "    \n",
    "    result = []\n",
    "    for _ in range(k):\n",
    "        if not heap:\n",
    "            break\n",
    "        \n",
    "        sum, (i, j) = heapq.heappop(heap)\n",
    "        result.append([arr1[i], arr2[j]])\n",
    "        \n",
    "        if i+1 < len(arr1) and (i+1, j) not in indices:\n",
    "            heapq.heappush(heap, (arr1[i+1] + arr2[j], (i+1, j)))\n",
    "            indices.add((i+1, j))\n",
    "        \n",
    "        if j+1 < len(arr2) and (i, j+1) not in indices:\n",
    "            heapq.heappush(heap, (arr1[i] + arr2[j+1], (i, j+1)))\n",
    "            indices.add((i, j+1))\n",
    "    \n",
    "    return result\n",
    "\n"
   ]
  },
  {
   "cell_type": "code",
   "execution_count": 16,
   "id": "51b3dae5",
   "metadata": {},
   "outputs": [
    {
     "name": "stdout",
     "output_type": "stream",
     "text": [
      "[[1, 3], [1, 4], [2, 3], [2, 4]]\n"
     ]
    }
   ],
   "source": [
    "print(findSmallestPairs(arr1 = [1, 2, 5], arr2 = [3, 4, 6], k = 4))"
   ]
  },
  {
   "cell_type": "code",
   "execution_count": null,
   "id": "39defc82",
   "metadata": {},
   "outputs": [],
   "source": []
  }
 ],
 "metadata": {
  "kernelspec": {
   "display_name": "Python 3 (ipykernel)",
   "language": "python",
   "name": "python3"
  },
  "language_info": {
   "codemirror_mode": {
    "name": "ipython",
    "version": 3
   },
   "file_extension": ".py",
   "mimetype": "text/x-python",
   "name": "python",
   "nbconvert_exporter": "python",
   "pygments_lexer": "ipython3",
   "version": "3.10.12"
  }
 },
 "nbformat": 4,
 "nbformat_minor": 5
}
