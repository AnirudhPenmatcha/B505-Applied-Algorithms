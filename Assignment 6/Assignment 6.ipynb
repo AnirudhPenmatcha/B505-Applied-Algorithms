{
 "cells": [
  {
   "cell_type": "code",
   "execution_count": 2,
   "id": "290d01cd",
   "metadata": {},
   "outputs": [],
   "source": [
    "# Question 1\n",
    "\n",
    "from collections import Counter\n",
    "\n",
    "def minWindow(s: str, t: str) -> str:\n",
    "    if not t or not s:\n",
    "        return \"\"\n",
    "\n",
    "    dict_t = Counter(t)\n",
    "    required = len(dict_t)\n",
    "    l, r = 0, 0\n",
    "    formed = 0\n",
    "    window_counts = {}\n",
    "    ans = float(\"inf\"), None, None\n",
    "\n",
    "    while r < len(s):\n",
    "        character = s[r]\n",
    "        window_counts[character] = window_counts.get(character, 0) + 1\n",
    "\n",
    "        if character in dict_t and window_counts[character] == dict_t[character]:\n",
    "            formed += 1\n",
    "\n",
    "        while l <= r and formed == required:\n",
    "            character = s[l]\n",
    "\n",
    "            if r - l + 1 < ans[0]:\n",
    "                ans = (r - l + 1, l, r)\n",
    "\n",
    "            window_counts[character] -= 1\n",
    "            if character in dict_t and window_counts[character] < dict_t[character]:\n",
    "                formed -= 1\n",
    "\n",
    "            l += 1    \n",
    "\n",
    "        r += 1\n",
    "\n",
    "    return \"\" if ans[0] == float(\"inf\") else s[ans[1]:ans[2] + 1]\n",
    "\n",
    "# Example usage\n",
    "# s = \"ADOBECO"
   ]
  },
  {
   "cell_type": "code",
   "execution_count": 3,
   "id": "dd57246b",
   "metadata": {},
   "outputs": [
    {
     "name": "stdout",
     "output_type": "stream",
     "text": [
      "4\n",
      "9\n"
     ]
    }
   ],
   "source": [
    "# Question 2\n",
    "\n",
    "def longestConsecutive(nums):\n",
    "    num_set = set(nums)\n",
    "    max_length = 0\n",
    "\n",
    "    for num in num_set:\n",
    "        if num - 1 not in num_set:\n",
    "            current_num = num\n",
    "            current_length = 1\n",
    "\n",
    "            while current_num + 1 in num_set:\n",
    "                current_num += 1\n",
    "                current_length += 1\n",
    "\n",
    "            max_length = max(max_length, current_length)\n",
    "\n",
    "    return max_length\n",
    "\n",
    "print(longestConsecutive([100, 4, 200, 1, 3, 2]))  # Output: 4\n",
    "print(longestConsecutive([0, 3, 7, 2, 5, 8, 4, 6, 0, 1]))  # Output: 9"
   ]
  },
  {
   "cell_type": "code",
   "execution_count": 4,
   "id": "d6d08fb8",
   "metadata": {},
   "outputs": [
    {
     "name": "stdout",
     "output_type": "stream",
     "text": [
      "[4, 6]\n",
      "[5, 7, 3, 4, 6]\n",
      "[7, 4, 6]\n"
     ]
    }
   ],
   "source": [
    "# Question 3\n",
    "\n",
    "import time\n",
    "from collections import defaultdict, deque\n",
    "\n",
    "class Instagram:\n",
    "    def __init__(self):\n",
    "        self.photos = defaultdict(deque)\n",
    "        self.follows = defaultdict(set)\n",
    "\n",
    "    def sharePhoto(self, userId: int, photoId: int) -> None:\n",
    "        self.photos[userId].append((photoId, time.monotonic()))\n",
    "        if len(self.photos[userId]) > 10:\n",
    "            self.photos[userId].popleft()\n",
    "\n",
    "    def getFeed(self, userId: int) -> list[int]:\n",
    "        all_posts = list(self.photos[userId])\n",
    "        for followeeId in self.follows[userId]:\n",
    "            all_posts.extend(self.photos[followeeId])\n",
    "        \n",
    "        all_posts.sort(key=lambda x: x[1], reverse=True)\n",
    "        feed = [photo_id for photo_id, _ in all_posts[:10]]\n",
    "        return feed\n",
    "\n",
    "    def follow(self, followerId: int, followeeId: int) -> None:\n",
    "        self.follows[followerId].add(followeeId)\n",
    "\n",
    "    def unfollow(self, followerId: int, followeeId: int) -> None:\n",
    "        if followeeId in self.follows[followerId]:\n",
    "            self.follows[followerId].remove(followeeId)\n",
    "\n",
    "# Example usage\n",
    "insta = Instagram()\n",
    "insta.sharePhoto(1, 6)\n",
    "insta.sharePhoto(1, 4)\n",
    "print(insta.getFeed(1))  # [4, 6]\n",
    "insta.follow(1, 2)\n",
    "insta.sharePhoto(2, 3)\n",
    "insta.sharePhoto(1, 7)\n",
    "insta.sharePhoto(2, 5)\n",
    "print(insta.getFeed(1))  # [5, 7, 3, 4, 6]\n",
    "insta.unfollow(1, 2)\n",
    "print(insta.getFeed(1))  # [7, 4, 6]"
   ]
  },
  {
   "cell_type": "code",
   "execution_count": 5,
   "id": "e17b0536",
   "metadata": {},
   "outputs": [
    {
     "name": "stdout",
     "output_type": "stream",
     "text": [
      "3\n"
     ]
    }
   ],
   "source": [
    "# Question 4\n",
    "\n",
    "def countSum(nums: list[int], k: int) -> int:\n",
    "    sum_count = {0: 1}  \n",
    "    total_sum = 0\n",
    "    count = 0\n",
    "\n",
    "    for num in nums:\n",
    "        total_sum += num\n",
    "        count += sum_count.get(total_sum - k, 0)\n",
    "        sum_count[total_sum] = sum_count.get(total_sum, 0) + 1\n",
    "\n",
    "    return count\n",
    "\n",
    "print(countSum([1, 2, 3, 2, 1], 3))  # Output: 3"
   ]
  },
  {
   "cell_type": "code",
   "execution_count": 6,
   "id": "0045d3d5",
   "metadata": {},
   "outputs": [
    {
     "name": "stdout",
     "output_type": "stream",
     "text": [
      "[7, 1, 1, 2]\n"
     ]
    }
   ],
   "source": [
    "# Question 5\n",
    "\n",
    "def uniqSubstr(s):\n",
    "    last_occurrence = {}\n",
    "    for i, char in enumerate(s):\n",
    "        last_occurrence[char] = i\n",
    "\n",
    "    lengths = []\n",
    "    start, end = 0, 0\n",
    "\n",
    "    for i, char in enumerate(s):\n",
    "        end = max(end, last_occurrence[char])\n",
    "\n",
    "        if i == end:\n",
    "            lengths.append(end - start + 1)\n",
    "            start = i + 1  # Update start to be the next index after the current end\n",
    "\n",
    "    return lengths\n",
    "\n",
    "# Example usage\n",
    "s = \"abcabcakghh\"\n",
    "# s = \"ababcbacadefegdehijhklij\"\n",
    "print(uniqSubstr(s))  # Output: [9, 7, 8]"
   ]
  },
  {
   "cell_type": "code",
   "execution_count": 8,
   "id": "97d3b74a",
   "metadata": {},
   "outputs": [
    {
     "name": "stdout",
     "output_type": "stream",
     "text": [
      "n=10: π ≈ 3.2\n",
      "n=100: π ≈ 3.2\n",
      "n=1000: π ≈ 3.224\n",
      "n=10000: π ≈ 3.1284\n",
      "n=100000: π ≈ 3.13452\n",
      "n=1000000: π ≈ 3.138716\n"
     ]
    },
    {
     "data": {
      "image/png": "[encoded data removed]",
      "text/plain": [
       "<Figure size 720x432 with 1 Axes>"
      ]
     },
     "metadata": {
      "needs_background": "light"
     },
     "output_type": "display_data"
    }
   ],
   "source": [
    "# Question 6\n",
    "\n",
    "import random\n",
    "import matplotlib.pyplot as plt\n",
    "\n",
    "def estimate_pi(n):\n",
    "    count = 0\n",
    "    for _ in range(n):\n",
    "        x, y = random.uniform(-1, 1), random.uniform(-1, 1)\n",
    "        if x**2 + y**2 < 1:\n",
    "            count += 1\n",
    "    return 4 * count / n\n",
    "\n",
    "def simulate_and_plot(ns):\n",
    "    estimates = []\n",
    "    for n in ns:\n",
    "        pi_estimate = estimate_pi(n)\n",
    "        estimates.append(pi_estimate)\n",
    "        print(f\"n={n}: π ≈ {pi_estimate}\")\n",
    "\n",
    "    plt.figure(figsize=(10, 6))\n",
    "    plt.plot(ns, estimates, marker='o', linestyle='-', color='b')\n",
    "    plt.axhline(y=3.141592653589793, color='r', linestyle='--')\n",
    "    plt.title('Estimation of π using Monte Carlo Simulation')\n",
    "    plt.xlabel('Number of Simulations (n)')\n",
    "    plt.ylabel('Estimate of π')\n",
    "    plt.xscale('log')  # Using a logarithmic scale for better visualization\n",
    "    plt.grid(True)\n",
    "    plt.show()\n",
    "\n",
    "# Example usage\n",
    "ns = [10, 100, 1000, 10000, 100000, 1000000]\n",
    "simulate_and_plot(ns)"
   ]
  }
 ],
 "metadata": {
  "kernelspec": {
   "display_name": "Python 3 (ipykernel)",
   "language": "python",
   "name": "python3"
  },
  "language_info": {
   "codemirror_mode": {
    "name": "ipython",
    "version": 3
   },
   "file_extension": ".py",
   "mimetype": "text/x-python",
   "name": "python",
   "nbconvert_exporter": "python",
   "pygments_lexer": "ipython3",
   "version": "3.10.12"
  }
 },
 "nbformat": 4,
 "nbformat_minor": 5
}
